{
  "cells": [
    {
      "cell_type": "markdown",
      "metadata": {
        "id": "H9wADwK78DCz"
      },
      "source": [
        "# Proyek Analisis Data: Bike Sharing \n",
        "- **Nama:** Walker Valentinus Simanjuntak\n",
        "- **Email:** iss21012@students.del.ac.id\n",
        "- **ID Dicoding:** walkersimanjuntak"
      ]
    },
    {
      "cell_type": "markdown",
      "metadata": {
        "id": "eE0raob58DC0"
      },
      "source": [
        "## Menentukan Pertanyaan Bisnis"
      ]
    },
    {
      "cell_type": "markdown",
      "metadata": {
        "id": "GmQeQ5YF8DC0"
      },
      "source": [
        "- Pertanyaan 1\n",
        "- Pertanyaan 2"
      ]
    },
    {
      "cell_type": "markdown",
      "metadata": {
        "id": "H-z4QGlO8DC1"
      },
      "source": [
        "## Import Semua Packages/Library yang Digunakan"
      ]
    },
    {
      "cell_type": "code",
      "execution_count": 1,
      "metadata": {
        "id": "FVYwaObI8DC1"
      },
      "outputs": [],
      "source": [
        "import pandas as pd\n",
        "import numpy as np\n",
        "import matplotlib.pyplot as plt\n",
        "import seaborn as sns"
      ]
    },
    {
      "cell_type": "markdown",
      "metadata": {
        "id": "h_Sh51Xy8DC1"
      },
      "source": [
        "## Data Wrangling"
      ]
    },
    {
      "cell_type": "markdown",
      "metadata": {
        "id": "sXU2GBYu8DC1"
      },
      "source": [
        "### Gathering Data"
      ]
    },
    {
      "cell_type": "code",
      "execution_count": 2,
      "metadata": {
        "id": "zjCBk1BI8DC1"
      },
      "outputs": [],
      "source": [
        "day_df = pd.read_csv('Data/day.csv')\n",
        "hour_df = pd.read_csv('Data/hour.csv')"
      ]
    },
    {
      "cell_type": "markdown",
      "metadata": {
        "id": "FHSiqaZp8DC1"
      },
      "source": [
        "### Assessing Data"
      ]
    },
    {
      "cell_type": "code",
      "execution_count": 39,
      "metadata": {
        "id": "ax-3tEjc9Cj1"
      },
      "outputs": [
        {
          "name": "stdout",
          "output_type": "stream",
          "text": [
            " SHAPE \n",
            "Rows:731\n",
            "Columns:16\n",
            "\n",
            "\n",
            " MISSING VALUES \n",
            "instant       0\n",
            "dteday        0\n",
            "season        0\n",
            "yr            0\n",
            "mnth          0\n",
            "holiday       0\n",
            "weekday       0\n",
            "workingday    0\n",
            "weathersit    0\n",
            "temp          0\n",
            "atemp         0\n",
            "hum           0\n",
            "windspeed     0\n",
            "casual        0\n",
            "registered    0\n",
            "cnt           0\n",
            "dtype: int64\n",
            "\n",
            "\n",
            " DUPLICATED VALUES \n",
            "0\n",
            "\n",
            "\n",
            " HEAD \n",
            "   instant      dteday  season  yr  mnth  holiday  weekday  workingday  \\\n",
            "0        1  2011-01-01       1   0     1        0        6           0   \n",
            "1        2  2011-01-02       1   0     1        0        0           0   \n",
            "2        3  2011-01-03       1   0     1        0        1           1   \n",
            "\n",
            "   weathersit      temp     atemp       hum  windspeed  casual  registered  \\\n",
            "0           2  0.344167  0.363625  0.805833   0.160446     331         654   \n",
            "1           2  0.363478  0.353739  0.696087   0.248539     131         670   \n",
            "2           1  0.196364  0.189405  0.437273   0.248309     120        1229   \n",
            "\n",
            "    cnt  \n",
            "0   985  \n",
            "1   801  \n",
            "2  1349  \n",
            "\n",
            "\n",
            " DATA TYPES \n",
            "instant         int64\n",
            "dteday         object\n",
            "season          int64\n",
            "yr              int64\n",
            "mnth            int64\n",
            "holiday         int64\n",
            "weekday         int64\n",
            "workingday      int64\n",
            "weathersit      int64\n",
            "temp          float64\n",
            "atemp         float64\n",
            "hum           float64\n",
            "windspeed     float64\n",
            "casual          int64\n",
            "registered      int64\n",
            "cnt             int64\n",
            "dtype: object\n",
            "\n",
            "\n",
            "DATA DAY SUMMARRY\n",
            "          instant      season          yr        mnth     holiday     weekday  \\\n",
            "count  731.000000  731.000000  731.000000  731.000000  731.000000  731.000000   \n",
            "mean   366.000000    2.496580    0.500684    6.519836    0.028728    2.997264   \n",
            "std    211.165812    1.110807    0.500342    3.451913    0.167155    2.004787   \n",
            "min      1.000000    1.000000    0.000000    1.000000    0.000000    0.000000   \n",
            "25%    183.500000    2.000000    0.000000    4.000000    0.000000    1.000000   \n",
            "50%    366.000000    3.000000    1.000000    7.000000    0.000000    3.000000   \n",
            "75%    548.500000    3.000000    1.000000   10.000000    0.000000    5.000000   \n",
            "max    731.000000    4.000000    1.000000   12.000000    1.000000    6.000000   \n",
            "\n",
            "       workingday  weathersit        temp       atemp         hum   windspeed  \\\n",
            "count  731.000000  731.000000  731.000000  731.000000  731.000000  731.000000   \n",
            "mean     0.683995    1.395349    0.495385    0.474354    0.627894    0.190486   \n",
            "std      0.465233    0.544894    0.183051    0.162961    0.142429    0.077498   \n",
            "min      0.000000    1.000000    0.059130    0.079070    0.000000    0.022392   \n",
            "25%      0.000000    1.000000    0.337083    0.337842    0.520000    0.134950   \n",
            "50%      1.000000    1.000000    0.498333    0.486733    0.626667    0.180975   \n",
            "75%      1.000000    2.000000    0.655417    0.608602    0.730209    0.233214   \n",
            "max      1.000000    3.000000    0.861667    0.840896    0.972500    0.507463   \n",
            "\n",
            "            casual   registered          cnt  \n",
            "count   731.000000   731.000000   731.000000  \n",
            "mean    848.176471  3656.172367  4504.348837  \n",
            "std     686.622488  1560.256377  1937.211452  \n",
            "min       2.000000    20.000000    22.000000  \n",
            "25%     315.500000  2497.000000  3152.000000  \n",
            "50%     713.000000  3662.000000  4548.000000  \n",
            "75%    1096.000000  4776.500000  5956.000000  \n",
            "max    3410.000000  6946.000000  8714.000000  \n"
          ]
        }
      ],
      "source": [
        "pd.set_option('display.max_columns', None) \n",
        "def data_overview(day_df, head=5):\n",
        "    print(\" SHAPE \".center(4, '-'))\n",
        "    print('Rows:{}'.format(day_df.shape[0]))\n",
        "    print('Columns:{}'.format(day_df.shape[1]))\n",
        "    print(\"\\n\")\n",
        "    print(\" MISSING VALUES \".center(4, '-'))\n",
        "    print(day_df.isnull().sum())\n",
        "    print(\"\\n\")\n",
        "    print(\" DUPLICATED VALUES \".center(4, '-'))\n",
        "    print(day_df.duplicated().sum())\n",
        "    print(\"\\n\")\n",
        "    print(\" HEAD \".center(4, '-'))\n",
        "    print(day_df.head(3))\n",
        "    print(\"\\n\")\n",
        "    print(\" DATA TYPES \".center(4, '-'))\n",
        "    print(day_df.dtypes)\n",
        "    print(\"\\n\")\n",
        "    print(\"DATA DAY SUMMARRY\".center(4, '-'))\n",
        "    print(day_df.describe())\n",
        "\n",
        "data_overview(day_df)"
      ]
    },
    {
      "cell_type": "code",
      "execution_count": 38,
      "metadata": {},
      "outputs": [
        {
          "name": "stdout",
          "output_type": "stream",
          "text": [
            " SHAPE \n",
            "Rows:17379\n",
            "Columns:17\n",
            "\n",
            "\n",
            " MISSING VALUES \n",
            "instant       0\n",
            "dteday        0\n",
            "season        0\n",
            "yr            0\n",
            "mnth          0\n",
            "hr            0\n",
            "holiday       0\n",
            "weekday       0\n",
            "workingday    0\n",
            "weathersit    0\n",
            "temp          0\n",
            "atemp         0\n",
            "hum           0\n",
            "windspeed     0\n",
            "casual        0\n",
            "registered    0\n",
            "cnt           0\n",
            "dtype: int64\n",
            "\n",
            "\n",
            " DUPLICATED VALUES \n",
            "0\n",
            "\n",
            "\n",
            " HEAD \n",
            "   instant      dteday  season  yr  mnth  hr  holiday  weekday  workingday  \\\n",
            "0        1  2011-01-01       1   0     1   0        0        6           0   \n",
            "1        2  2011-01-01       1   0     1   1        0        6           0   \n",
            "2        3  2011-01-01       1   0     1   2        0        6           0   \n",
            "\n",
            "   weathersit  temp   atemp   hum  windspeed  casual  registered  cnt  \n",
            "0           1  0.24  0.2879  0.81        0.0       3          13   16  \n",
            "1           1  0.22  0.2727  0.80        0.0       8          32   40  \n",
            "2           1  0.22  0.2727  0.80        0.0       5          27   32  \n",
            "\n",
            "\n",
            " DATA TYPES \n",
            "instant         int64\n",
            "dteday         object\n",
            "season          int64\n",
            "yr              int64\n",
            "mnth            int64\n",
            "hr              int64\n",
            "holiday         int64\n",
            "weekday         int64\n",
            "workingday      int64\n",
            "weathersit      int64\n",
            "temp          float64\n",
            "atemp         float64\n",
            "hum           float64\n",
            "windspeed     float64\n",
            "casual          int64\n",
            "registered      int64\n",
            "cnt             int64\n",
            "dtype: object\n",
            "\n",
            "\n",
            "DATA HOUR SUMMARRY\n",
            "          instant        season            yr          mnth            hr  \\\n",
            "count  17379.0000  17379.000000  17379.000000  17379.000000  17379.000000   \n",
            "mean    8690.0000      2.501640      0.502561      6.537775     11.546752   \n",
            "std     5017.0295      1.106918      0.500008      3.438776      6.914405   \n",
            "min        1.0000      1.000000      0.000000      1.000000      0.000000   \n",
            "25%     4345.5000      2.000000      0.000000      4.000000      6.000000   \n",
            "50%     8690.0000      3.000000      1.000000      7.000000     12.000000   \n",
            "75%    13034.5000      3.000000      1.000000     10.000000     18.000000   \n",
            "max    17379.0000      4.000000      1.000000     12.000000     23.000000   \n",
            "\n",
            "            holiday       weekday    workingday    weathersit          temp  \\\n",
            "count  17379.000000  17379.000000  17379.000000  17379.000000  17379.000000   \n",
            "mean       0.028770      3.003683      0.682721      1.425283      0.496987   \n",
            "std        0.167165      2.005771      0.465431      0.639357      0.192556   \n",
            "min        0.000000      0.000000      0.000000      1.000000      0.020000   \n",
            "25%        0.000000      1.000000      0.000000      1.000000      0.340000   \n",
            "50%        0.000000      3.000000      1.000000      1.000000      0.500000   \n",
            "75%        0.000000      5.000000      1.000000      2.000000      0.660000   \n",
            "max        1.000000      6.000000      1.000000      4.000000      1.000000   \n",
            "\n",
            "              atemp           hum     windspeed        casual    registered  \\\n",
            "count  17379.000000  17379.000000  17379.000000  17379.000000  17379.000000   \n",
            "mean       0.475775      0.627229      0.190098     35.676218    153.786869   \n",
            "std        0.171850      0.192930      0.122340     49.305030    151.357286   \n",
            "min        0.000000      0.000000      0.000000      0.000000      0.000000   \n",
            "25%        0.333300      0.480000      0.104500      4.000000     34.000000   \n",
            "50%        0.484800      0.630000      0.194000     17.000000    115.000000   \n",
            "75%        0.621200      0.780000      0.253700     48.000000    220.000000   \n",
            "max        1.000000      1.000000      0.850700    367.000000    886.000000   \n",
            "\n",
            "                cnt  \n",
            "count  17379.000000  \n",
            "mean     189.463088  \n",
            "std      181.387599  \n",
            "min        1.000000  \n",
            "25%       40.000000  \n",
            "50%      142.000000  \n",
            "75%      281.000000  \n",
            "max      977.000000  \n"
          ]
        }
      ],
      "source": [
        "pd.set_option('display.max_columns', None) \n",
        "def data_overview(hour_df, head=5):\n",
        "    print(\" SHAPE \".center(4, '-'))\n",
        "    print('Rows:{}'.format(hour_df.shape[0]))\n",
        "    print('Columns:{}'.format(hour_df.shape[1]))\n",
        "    print(\"\\n\")\n",
        "    print(\" MISSING VALUES \".center(4, '-'))\n",
        "    print(hour_df.isnull().sum())\n",
        "    print(\"\\n\")\n",
        "    print(\" DUPLICATED VALUES \".center(4, '-'))\n",
        "    print(hour_df.duplicated().sum())\n",
        "    print(\"\\n\")\n",
        "    print(\" HEAD \".center(4, '-'))\n",
        "    print(hour_df.head(3))\n",
        "    print(\"\\n\")\n",
        "    print(\" DATA TYPES \".center(4, '-'))\n",
        "    print(hour_df.dtypes)\n",
        "    print(\"\\n\")\n",
        "    print(\"DATA HOUR SUMMARRY\".center(4, '-'))\n",
        "    print(hour_df.describe())\n",
        "\n",
        "data_overview(hour_df)"
      ]
    },
    {
      "cell_type": "markdown",
      "metadata": {
        "id": "EhN5R4hr8DC1"
      },
      "source": [
        "### Cleaning Data"
      ]
    },
    {
      "cell_type": "markdown",
      "metadata": {},
      "source": [
        "#### Because there is no missing value or duplicated data, we check the outlier"
      ]
    },
    {
      "cell_type": "code",
      "execution_count": 36,
      "metadata": {
        "id": "jVnYpprE9Evz"
      },
      "outputs": [
        {
          "data": {
            "text/plain": [
              "(505, 17)"
            ]
          },
          "execution_count": 36,
          "metadata": {},
          "output_type": "execute_result"
        }
      ],
      "source": [
        "Q1 = hour_df['cnt'].quantile(0.25)\n",
        "Q3 = hour_df['cnt'].quantile(0.75)\n",
        "\n",
        "IQR = Q3 - Q1\n",
        "\n",
        "lower_bound = Q1 - 1.5*IQR\n",
        "upper_bound = Q3 + 1.5*IQR\n",
        "\n",
        "outliers = hour_df[(hour_df['cnt'] < lower_bound) | (hour_df['cnt'] > upper_bound)]\n",
        "# outliers.style.background_gradient(cmap='BrBG')\n",
        "\n",
        "outliers.shape"
      ]
    },
    {
      "cell_type": "code",
      "execution_count": 37,
      "metadata": {},
      "outputs": [
        {
          "data": {
            "text/plain": [
              "(16874, 17)"
            ]
          },
          "execution_count": 37,
          "metadata": {},
          "output_type": "execute_result"
        }
      ],
      "source": [
        "# Delete Outlier\n",
        "cleaned_outliers = hour_df[~((hour_df['cnt'] < lower_bound) | (hour_df['cnt'] > upper_bound))]\n",
        "\n",
        "cleaned_outliers.shape"
      ]
    },
    {
      "cell_type": "markdown",
      "metadata": {},
      "source": [
        "#### Convert Dteday to datetime"
      ]
    },
    {
      "cell_type": "code",
      "execution_count": 40,
      "metadata": {},
      "outputs": [],
      "source": [
        "day_df['dteday'] = pd.to_datetime(day_df['dteday'])\n",
        "hour_df['dteday'] = pd.to_datetime(hour_df['dteday'])"
      ]
    },
    {
      "cell_type": "markdown",
      "metadata": {},
      "source": [
        "#### Merge Dataset"
      ]
    },
    {
      "cell_type": "code",
      "execution_count": 44,
      "metadata": {},
      "outputs": [],
      "source": [
        "all_df = pd.merge(\n",
        "    left = day_df,\n",
        "    right = hour_df,\n",
        "    how = 'left',\n",
        "    left_on='instant',\n",
        "    right_on='instant',\n",
        "    suffixes=('_day', '_hour')\n",
        ")"
      ]
    },
    {
      "cell_type": "code",
      "execution_count": 45,
      "metadata": {},
      "outputs": [
        {
          "data": {
            "text/html": [
              "<div>\n",
              "<style scoped>\n",
              "    .dataframe tbody tr th:only-of-type {\n",
              "        vertical-align: middle;\n",
              "    }\n",
              "\n",
              "    .dataframe tbody tr th {\n",
              "        vertical-align: top;\n",
              "    }\n",
              "\n",
              "    .dataframe thead th {\n",
              "        text-align: right;\n",
              "    }\n",
              "</style>\n",
              "<table border=\"1\" class=\"dataframe\">\n",
              "  <thead>\n",
              "    <tr style=\"text-align: right;\">\n",
              "      <th></th>\n",
              "      <th>instant</th>\n",
              "      <th>dteday_day</th>\n",
              "      <th>season_day</th>\n",
              "      <th>yr_day</th>\n",
              "      <th>mnth_day</th>\n",
              "      <th>holiday_day</th>\n",
              "      <th>weekday_day</th>\n",
              "      <th>workingday_day</th>\n",
              "      <th>weathersit_day</th>\n",
              "      <th>temp_day</th>\n",
              "      <th>atemp_day</th>\n",
              "      <th>hum_day</th>\n",
              "      <th>windspeed_day</th>\n",
              "      <th>casual_day</th>\n",
              "      <th>registered_day</th>\n",
              "      <th>cnt_day</th>\n",
              "      <th>dteday_hour</th>\n",
              "      <th>season_hour</th>\n",
              "      <th>yr_hour</th>\n",
              "      <th>mnth_hour</th>\n",
              "      <th>hr</th>\n",
              "      <th>holiday_hour</th>\n",
              "      <th>weekday_hour</th>\n",
              "      <th>workingday_hour</th>\n",
              "      <th>weathersit_hour</th>\n",
              "      <th>temp_hour</th>\n",
              "      <th>atemp_hour</th>\n",
              "      <th>hum_hour</th>\n",
              "      <th>windspeed_hour</th>\n",
              "      <th>casual_hour</th>\n",
              "      <th>registered_hour</th>\n",
              "      <th>cnt_hour</th>\n",
              "    </tr>\n",
              "  </thead>\n",
              "  <tbody>\n",
              "    <tr>\n",
              "      <th>0</th>\n",
              "      <td>1</td>\n",
              "      <td>2011-01-01</td>\n",
              "      <td>1</td>\n",
              "      <td>0</td>\n",
              "      <td>1</td>\n",
              "      <td>0</td>\n",
              "      <td>6</td>\n",
              "      <td>0</td>\n",
              "      <td>2</td>\n",
              "      <td>0.344167</td>\n",
              "      <td>0.363625</td>\n",
              "      <td>0.805833</td>\n",
              "      <td>0.160446</td>\n",
              "      <td>331</td>\n",
              "      <td>654</td>\n",
              "      <td>985</td>\n",
              "      <td>2011-01-01</td>\n",
              "      <td>1</td>\n",
              "      <td>0</td>\n",
              "      <td>1</td>\n",
              "      <td>0</td>\n",
              "      <td>0</td>\n",
              "      <td>6</td>\n",
              "      <td>0</td>\n",
              "      <td>1</td>\n",
              "      <td>0.24</td>\n",
              "      <td>0.2879</td>\n",
              "      <td>0.81</td>\n",
              "      <td>0.0</td>\n",
              "      <td>3</td>\n",
              "      <td>13</td>\n",
              "      <td>16</td>\n",
              "    </tr>\n",
              "    <tr>\n",
              "      <th>1</th>\n",
              "      <td>2</td>\n",
              "      <td>2011-01-02</td>\n",
              "      <td>1</td>\n",
              "      <td>0</td>\n",
              "      <td>1</td>\n",
              "      <td>0</td>\n",
              "      <td>0</td>\n",
              "      <td>0</td>\n",
              "      <td>2</td>\n",
              "      <td>0.363478</td>\n",
              "      <td>0.353739</td>\n",
              "      <td>0.696087</td>\n",
              "      <td>0.248539</td>\n",
              "      <td>131</td>\n",
              "      <td>670</td>\n",
              "      <td>801</td>\n",
              "      <td>2011-01-01</td>\n",
              "      <td>1</td>\n",
              "      <td>0</td>\n",
              "      <td>1</td>\n",
              "      <td>1</td>\n",
              "      <td>0</td>\n",
              "      <td>6</td>\n",
              "      <td>0</td>\n",
              "      <td>1</td>\n",
              "      <td>0.22</td>\n",
              "      <td>0.2727</td>\n",
              "      <td>0.80</td>\n",
              "      <td>0.0</td>\n",
              "      <td>8</td>\n",
              "      <td>32</td>\n",
              "      <td>40</td>\n",
              "    </tr>\n",
              "    <tr>\n",
              "      <th>2</th>\n",
              "      <td>3</td>\n",
              "      <td>2011-01-03</td>\n",
              "      <td>1</td>\n",
              "      <td>0</td>\n",
              "      <td>1</td>\n",
              "      <td>0</td>\n",
              "      <td>1</td>\n",
              "      <td>1</td>\n",
              "      <td>1</td>\n",
              "      <td>0.196364</td>\n",
              "      <td>0.189405</td>\n",
              "      <td>0.437273</td>\n",
              "      <td>0.248309</td>\n",
              "      <td>120</td>\n",
              "      <td>1229</td>\n",
              "      <td>1349</td>\n",
              "      <td>2011-01-01</td>\n",
              "      <td>1</td>\n",
              "      <td>0</td>\n",
              "      <td>1</td>\n",
              "      <td>2</td>\n",
              "      <td>0</td>\n",
              "      <td>6</td>\n",
              "      <td>0</td>\n",
              "      <td>1</td>\n",
              "      <td>0.22</td>\n",
              "      <td>0.2727</td>\n",
              "      <td>0.80</td>\n",
              "      <td>0.0</td>\n",
              "      <td>5</td>\n",
              "      <td>27</td>\n",
              "      <td>32</td>\n",
              "    </tr>\n",
              "    <tr>\n",
              "      <th>3</th>\n",
              "      <td>4</td>\n",
              "      <td>2011-01-04</td>\n",
              "      <td>1</td>\n",
              "      <td>0</td>\n",
              "      <td>1</td>\n",
              "      <td>0</td>\n",
              "      <td>2</td>\n",
              "      <td>1</td>\n",
              "      <td>1</td>\n",
              "      <td>0.200000</td>\n",
              "      <td>0.212122</td>\n",
              "      <td>0.590435</td>\n",
              "      <td>0.160296</td>\n",
              "      <td>108</td>\n",
              "      <td>1454</td>\n",
              "      <td>1562</td>\n",
              "      <td>2011-01-01</td>\n",
              "      <td>1</td>\n",
              "      <td>0</td>\n",
              "      <td>1</td>\n",
              "      <td>3</td>\n",
              "      <td>0</td>\n",
              "      <td>6</td>\n",
              "      <td>0</td>\n",
              "      <td>1</td>\n",
              "      <td>0.24</td>\n",
              "      <td>0.2879</td>\n",
              "      <td>0.75</td>\n",
              "      <td>0.0</td>\n",
              "      <td>3</td>\n",
              "      <td>10</td>\n",
              "      <td>13</td>\n",
              "    </tr>\n",
              "    <tr>\n",
              "      <th>4</th>\n",
              "      <td>5</td>\n",
              "      <td>2011-01-05</td>\n",
              "      <td>1</td>\n",
              "      <td>0</td>\n",
              "      <td>1</td>\n",
              "      <td>0</td>\n",
              "      <td>3</td>\n",
              "      <td>1</td>\n",
              "      <td>1</td>\n",
              "      <td>0.226957</td>\n",
              "      <td>0.229270</td>\n",
              "      <td>0.436957</td>\n",
              "      <td>0.186900</td>\n",
              "      <td>82</td>\n",
              "      <td>1518</td>\n",
              "      <td>1600</td>\n",
              "      <td>2011-01-01</td>\n",
              "      <td>1</td>\n",
              "      <td>0</td>\n",
              "      <td>1</td>\n",
              "      <td>4</td>\n",
              "      <td>0</td>\n",
              "      <td>6</td>\n",
              "      <td>0</td>\n",
              "      <td>1</td>\n",
              "      <td>0.24</td>\n",
              "      <td>0.2879</td>\n",
              "      <td>0.75</td>\n",
              "      <td>0.0</td>\n",
              "      <td>0</td>\n",
              "      <td>1</td>\n",
              "      <td>1</td>\n",
              "    </tr>\n",
              "  </tbody>\n",
              "</table>\n",
              "</div>"
            ],
            "text/plain": [
              "   instant dteday_day  season_day  yr_day  mnth_day  holiday_day  weekday_day  \\\n",
              "0        1 2011-01-01           1       0         1            0            6   \n",
              "1        2 2011-01-02           1       0         1            0            0   \n",
              "2        3 2011-01-03           1       0         1            0            1   \n",
              "3        4 2011-01-04           1       0         1            0            2   \n",
              "4        5 2011-01-05           1       0         1            0            3   \n",
              "\n",
              "   workingday_day  weathersit_day  temp_day  atemp_day   hum_day  \\\n",
              "0               0               2  0.344167   0.363625  0.805833   \n",
              "1               0               2  0.363478   0.353739  0.696087   \n",
              "2               1               1  0.196364   0.189405  0.437273   \n",
              "3               1               1  0.200000   0.212122  0.590435   \n",
              "4               1               1  0.226957   0.229270  0.436957   \n",
              "\n",
              "   windspeed_day  casual_day  registered_day  cnt_day dteday_hour  \\\n",
              "0       0.160446         331             654      985  2011-01-01   \n",
              "1       0.248539         131             670      801  2011-01-01   \n",
              "2       0.248309         120            1229     1349  2011-01-01   \n",
              "3       0.160296         108            1454     1562  2011-01-01   \n",
              "4       0.186900          82            1518     1600  2011-01-01   \n",
              "\n",
              "   season_hour  yr_hour  mnth_hour  hr  holiday_hour  weekday_hour  \\\n",
              "0            1        0          1   0             0             6   \n",
              "1            1        0          1   1             0             6   \n",
              "2            1        0          1   2             0             6   \n",
              "3            1        0          1   3             0             6   \n",
              "4            1        0          1   4             0             6   \n",
              "\n",
              "   workingday_hour  weathersit_hour  temp_hour  atemp_hour  hum_hour  \\\n",
              "0                0                1       0.24      0.2879      0.81   \n",
              "1                0                1       0.22      0.2727      0.80   \n",
              "2                0                1       0.22      0.2727      0.80   \n",
              "3                0                1       0.24      0.2879      0.75   \n",
              "4                0                1       0.24      0.2879      0.75   \n",
              "\n",
              "   windspeed_hour  casual_hour  registered_hour  cnt_hour  \n",
              "0             0.0            3               13        16  \n",
              "1             0.0            8               32        40  \n",
              "2             0.0            5               27        32  \n",
              "3             0.0            3               10        13  \n",
              "4             0.0            0                1         1  "
            ]
          },
          "execution_count": 45,
          "metadata": {},
          "output_type": "execute_result"
        }
      ],
      "source": [
        "all_df.head()"
      ]
    },
    {
      "cell_type": "markdown",
      "metadata": {
        "id": "gp-Y6wU38DC1"
      },
      "source": [
        "## Exploratory Data Analysis (EDA)"
      ]
    },
    {
      "cell_type": "markdown",
      "metadata": {
        "id": "MW7WF2kr8DC1"
      },
      "source": [
        "### Explore Dataset"
      ]
    },
    {
      "cell_type": "code",
      "execution_count": null,
      "metadata": {
        "id": "e9CQCZjk8DC2"
      },
      "outputs": [],
      "source": []
    },
    {
      "cell_type": "markdown",
      "metadata": {
        "id": "zsyZjqak8DC2"
      },
      "source": [
        "## Visualization & Explanatory Analysis"
      ]
    },
    {
      "cell_type": "markdown",
      "metadata": {
        "id": "HZxOiQ6n8DC2"
      },
      "source": [
        "### Pertanyaan 1:"
      ]
    },
    {
      "cell_type": "code",
      "execution_count": null,
      "metadata": {
        "id": "1swJUdAD8DC2"
      },
      "outputs": [],
      "source": []
    },
    {
      "cell_type": "markdown",
      "metadata": {
        "id": "DgHI7CiU8DC2"
      },
      "source": [
        "### Pertanyaan 2:"
      ]
    },
    {
      "cell_type": "code",
      "execution_count": null,
      "metadata": {
        "id": "Go0lCsvO8DC2"
      },
      "outputs": [],
      "source": []
    },
    {
      "cell_type": "markdown",
      "metadata": {
        "id": "_WeHlCeX8DC2"
      },
      "source": [
        "## Conclusion"
      ]
    },
    {
      "cell_type": "markdown",
      "metadata": {
        "id": "ZTcyR48Y8DC2"
      },
      "source": [
        "- Conclution pertanyaan 1\n",
        "- Conclution pertanyaan 2"
      ]
    }
  ],
  "metadata": {
    "colab": {
      "provenance": []
    },
    "kernelspec": {
      "display_name": "Python 3",
      "language": "python",
      "name": "python3"
    },
    "language_info": {
      "codemirror_mode": {
        "name": "ipython",
        "version": 3
      },
      "file_extension": ".py",
      "mimetype": "text/x-python",
      "name": "python",
      "nbconvert_exporter": "python",
      "pygments_lexer": "ipython3",
      "version": "3.11.4"
    },
    "orig_nbformat": 4,
    "vscode": {
      "interpreter": {
        "hash": "972b3bf27e332e87b5379f2791f6ef9dfc79c71018c370b0d7423235e20fe4d7"
      }
    }
  },
  "nbformat": 4,
  "nbformat_minor": 0
}
